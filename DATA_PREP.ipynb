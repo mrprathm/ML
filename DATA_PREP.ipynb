{
 "cells": [
  {
   "cell_type": "code",
   "execution_count": null,
   "id": "988aeea4",
   "metadata": {},
   "outputs": [],
   "source": [
    "import pandas"
   ]
  },
  {
   "cell_type": "code",
   "execution_count": null,
   "id": "13fe47db",
   "metadata": {},
   "outputs": [],
   "source": [
    "file = pandas.read_csv(r'C:\\Users\\pranv\\Downloads\\Heart.csv')"
   ]
  },
  {
   "cell_type": "code",
   "execution_count": null,
   "id": "8dd3adc9",
   "metadata": {},
   "outputs": [],
   "source": [
    "file.head()"
   ]
  },
  {
   "cell_type": "code",
   "execution_count": null,
   "id": "da201c2c",
   "metadata": {},
   "outputs": [],
   "source": [
    "file.tail()"
   ]
  },
  {
   "cell_type": "code",
   "execution_count": null,
   "id": "e5efc47c",
   "metadata": {},
   "outputs": [],
   "source": [
    "file.shape"
   ]
  },
  {
   "cell_type": "code",
   "execution_count": null,
   "id": "df632986",
   "metadata": {},
   "outputs": [],
   "source": [
    "file.describe()"
   ]
  },
  {
   "cell_type": "code",
   "execution_count": null,
   "id": "d783a8e7",
   "metadata": {},
   "outputs": [],
   "source": [
    "file['Age'].max()"
   ]
  },
  {
   "cell_type": "code",
   "execution_count": null,
   "id": "c3e3886b",
   "metadata": {},
   "outputs": [],
   "source": [
    "file['Age'].min()"
   ]
  },
  {
   "cell_type": "code",
   "execution_count": null,
   "id": "fd9a51aa",
   "metadata": {},
   "outputs": [],
   "source": [
    "file['Age'].mean()"
   ]
  },
  {
   "cell_type": "code",
   "execution_count": null,
   "id": "8898a20c",
   "metadata": {},
   "outputs": [],
   "source": [
    "file.dtypes"
   ]
  },
  {
   "cell_type": "code",
   "execution_count": null,
   "id": "f650f465",
   "metadata": {},
   "outputs": [],
   "source": [
    "file.replace({\"Yes\": 1, \"No\": 0})"
   ]
  },
  {
   "cell_type": "code",
   "execution_count": null,
   "id": "5be6bab6",
   "metadata": {},
   "outputs": [],
   "source": [
    "file.rename(columns={\"MaxHR\": \"MaxHeartRate\"})"
   ]
  },
  {
   "cell_type": "code",
   "execution_count": null,
   "id": "4bf2512b",
   "metadata": {},
   "outputs": [],
   "source": [
    "file.columns"
   ]
  },
  {
   "cell_type": "code",
   "execution_count": null,
   "id": "05e9fb0d",
   "metadata": {},
   "outputs": [],
   "source": [
    "file.isnull().sum()"
   ]
  },
  {
   "cell_type": "code",
   "execution_count": null,
   "id": "146f6f8b",
   "metadata": {},
   "outputs": [],
   "source": [
    "file.count(0).sum()"
   ]
  }
 ],
 "metadata": {
  "kernelspec": {
   "display_name": "Python 3.10.0 64-bit",
   "language": "python",
   "name": "python3"
  },
  "language_info": {
   "codemirror_mode": {
    "name": "ipython",
    "version": 3
   },
   "file_extension": ".py",
   "mimetype": "text/x-python",
   "name": "python",
   "nbconvert_exporter": "python",
   "pygments_lexer": "ipython3",
   "version": "3.10.0"
  },
  "vscode": {
   "interpreter": {
    "hash": "26de051ba29f2982a8de78e945f0abaf191376122a1563185a90213a26c5da77"
   }
  }
 },
 "nbformat": 4,
 "nbformat_minor": 5
}
