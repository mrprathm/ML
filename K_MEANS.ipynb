{
 "cells": [
  {
   "cell_type": "code",
   "execution_count": null,
   "id": "54cb870f",
   "metadata": {},
   "outputs": [],
   "source": [
    "import numpy as np\n",
    "import pandas as pd"
   ]
  },
  {
   "cell_type": "code",
   "execution_count": null,
   "id": "8955853f",
   "metadata": {},
   "outputs": [],
   "source": [
    "dataset = pd.read_csv('C:\\\\Users\\\\pranv\\\\Downloads\\\\Mall_Customers.csv')"
   ]
  },
  {
   "cell_type": "code",
   "execution_count": null,
   "id": "ab87c431",
   "metadata": {},
   "outputs": [],
   "source": [
    "dataset.head()"
   ]
  },
  {
   "cell_type": "code",
   "execution_count": null,
   "id": "6d3587fc",
   "metadata": {},
   "outputs": [],
   "source": [
    "X = dataset[['Annual Income (k$)', 'Spending Score (1-100)']].values\n",
    "X"
   ]
  },
  {
   "cell_type": "code",
   "execution_count": null,
   "id": "738edf3c",
   "metadata": {},
   "outputs": [],
   "source": [
    "from sklearn.cluster import KMeans\n",
    "import matplotlib.pyplot as plt"
   ]
  },
  {
   "cell_type": "code",
   "execution_count": null,
   "id": "4aecf431",
   "metadata": {},
   "outputs": [],
   "source": [
    "kmeans = None\n",
    "def elbow_method():\n",
    "    wcss = []\n",
    "    for i in range(1, 11):\n",
    "        global kmeans\n",
    "        kmeans = KMeans(n_clusters=i, init='k-means++', random_state=101)\n",
    "        kmeans.fit(X)\n",
    "        wcss.append(kmeans.inertia_)\n",
    "    plt.plot(range(1,11), wcss)\n",
    "    plt.title('The Elbow Method Graph')\n",
    "    plt.xlabel('Number of clusters(k)')\n",
    "    plt.ylabel('wcss_list')\n",
    "    plt.show()\n",
    "    \n",
    "elbow_method()\n",
    "    "
   ]
  },
  {
   "cell_type": "code",
   "execution_count": null,
   "id": "8642304b",
   "metadata": {},
   "outputs": [],
   "source": [
    "final_kmean = KMeans(n_clusters=5, init='k-means++', random_state=101)\n",
    "y_kmean = final_kmean.fit_predict(X)"
   ]
  },
  {
   "cell_type": "code",
   "execution_count": null,
   "id": "e87950a0",
   "metadata": {},
   "outputs": [],
   "source": [
    "plt.scatter(X[y_kmean == 0, 0], X[y_kmean == 0, 1], s=60, c='blue', label=\"Cluster 1\")\n",
    "plt.scatter(X[y_kmean == 1, 0], X[y_kmean == 1, 1], s=60, c='red', label=\"Cluster 2\")\n",
    "plt.scatter(X[y_kmean == 2, 0], X[y_kmean == 2, 1], s=60, c='green', label=\"Cluster 3\")\n",
    "plt.scatter(X[y_kmean == 3, 0], X[y_kmean == 3, 1], s=60, c='violet', label=\"Cluster 4\")\n",
    "plt.scatter(X[y_kmean == 4, 0], X[y_kmean == 4, 1], s=60, c='yellow', label=\"Cluster 5\")\n",
    "\n",
    "plt.scatter(kmeans.cluster_centers_[:, 0], kmeans.cluster_centers_[:, 1], s=300, c='orange', label=\"Centroids\")\n",
    "\n",
    "plt.xlabel('Annual Income (k$)')\n",
    "plt.ylabel('Spending Score (1-100)')\n",
    "plt.legend()\n",
    "plt.show()\n"
   ]
  }
 ],
 "metadata": {
  "kernelspec": {
   "display_name": "Python 3 (ipykernel)",
   "language": "python",
   "name": "python3"
  },
  "language_info": {
   "codemirror_mode": {
    "name": "ipython",
    "version": 3
   },
   "file_extension": ".py",
   "mimetype": "text/x-python",
   "name": "python",
   "nbconvert_exporter": "python",
   "pygments_lexer": "ipython3",
   "version": "3.9.7"
  }
 },
 "nbformat": 4,
 "nbformat_minor": 5
}
