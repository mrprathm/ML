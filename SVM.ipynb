{
 "cells": [
  {
   "cell_type": "code",
   "execution_count": null,
   "id": "32ee62a3",
   "metadata": {},
   "outputs": [],
   "source": [
    "import pandas as pd\n",
    "data = pd.read_csv('C:\\\\Users\\\\pranv\\\\Downloads\\\\Admission_Predict.csv')\n",
    "data\n",
    "\n",
    "data.rename(columns={'Chance of Admit ': 'Chance of Admit', 'LOR ': 'LOR'},inplace=True )"
   ]
  },
  {
   "cell_type": "code",
   "execution_count": null,
   "id": "0722dde2",
   "metadata": {},
   "outputs": [],
   "source": [
    "data.loc[data[\"Chance of Admit\"] >= 0.5, \"Chance of Admit\"] = 1\n",
    "data.loc[data[\"Chance of Admit\"] < 0.5, \"Chance of Admit\"] = 0"
   ]
  },
  {
   "cell_type": "code",
   "execution_count": null,
   "id": "cad2e355",
   "metadata": {},
   "outputs": [],
   "source": [
    "data\n",
    "data.columns"
   ]
  },
  {
   "cell_type": "code",
   "execution_count": null,
   "id": "f9a52291",
   "metadata": {},
   "outputs": [],
   "source": [
    "data[\"Chance of Admit\"] = data[\"Chance of Admit\"].astype(int)"
   ]
  },
  {
   "cell_type": "code",
   "execution_count": null,
   "id": "b2d22aba",
   "metadata": {},
   "outputs": [],
   "source": [
    "from sklearn.model_selection import train_test_split\n",
    "columns = ['GRE Score', 'TOEFL Score', 'University Rating', 'SOP', 'LOR', 'CGPA', 'Research']\n",
    "X = data[columns]\n",
    "Y = data['Chance of Admit']"
   ]
  },
  {
   "cell_type": "code",
   "execution_count": null,
   "id": "bb2afe82",
   "metadata": {},
   "outputs": [],
   "source": [
    "xTrain, xTest, yTrain, yTest = train_test_split(X, Y, test_size=0.2, random_state = 20)\n",
    "print(xTrain)\n",
    "print(xTest)\n",
    "print(yTrain)\n",
    "print(yTest)"
   ]
  },
  {
   "cell_type": "code",
   "execution_count": null,
   "id": "d650054d",
   "metadata": {},
   "outputs": [],
   "source": [
    "from sklearn.svm import SVC"
   ]
  },
  {
   "cell_type": "code",
   "execution_count": null,
   "id": "90fefd3a",
   "metadata": {},
   "outputs": [],
   "source": [
    "linearKernelClassifier = SVC(kernel='linear')\n",
    "linearKernelClassifier.fit(xTrain, yTrain)\n",
    "yPred1 = linearKernelClassifier.predict(xTest)"
   ]
  },
  {
   "cell_type": "code",
   "execution_count": null,
   "id": "a03f2935",
   "metadata": {},
   "outputs": [],
   "source": [
    "polyKernelClassifier = SVC(kernel='poly')\n",
    "polyKernelClassifier.fit(xTrain, yTrain)\n",
    "yPred2 = polyKernelClassifier.predict(xTest)"
   ]
  },
  {
   "cell_type": "code",
   "execution_count": null,
   "id": "2748c3d4",
   "metadata": {},
   "outputs": [],
   "source": [
    "rbfKernelClassifier = SVC(kernel='rbf')\n",
    "rbfKernelClassifier.fit(xTrain, yTrain)\n",
    "yPred3 = rbfKernelClassifier.predict(xTest)"
   ]
  },
  {
   "cell_type": "code",
   "execution_count": null,
   "id": "74716c72",
   "metadata": {},
   "outputs": [],
   "source": [
    "sigmoidKernelClassifier = SVC(kernel='sigmoid')\n",
    "sigmoidKernelClassifier.fit(xTrain, yTrain)\n",
    "yPred4 = sigmoidKernelClassifier.predict(xTest)"
   ]
  },
  {
   "cell_type": "code",
   "execution_count": null,
   "id": "bda1d49b",
   "metadata": {},
   "outputs": [],
   "source": [
    "finalOutputDiff = pd.DataFrame({'Actual': yTest, 'Linear Kernel': yPred1, 'Polynomial Kernel': yPred2, 'RBF Kernel': yPred3, 'Sigmoid Kernel': yPred4})\n",
    "finalOutputDiff.head(20)"
   ]
  },
  {
   "cell_type": "code",
   "execution_count": null,
   "id": "dcd2207a",
   "metadata": {},
   "outputs": [],
   "source": [
    "from sklearn.metrics import accuracy_score\n",
    "accuracyScore = pd.DataFrame({'Linear Kernel': accuracy_score(yTest, yPred1),'Polynomail Kernel': accuracy_score(yTest, yPred2), 'RBF Kernel': accuracy_score(yTest, yPred3), 'Sigmoid Kernel': accuracy_score(yTest, yPred4) }, index=[0])\n",
    "accuracyScore"
   ]
  },
  {
   "cell_type": "code",
   "execution_count": null,
   "id": "688f4c2d",
   "metadata": {},
   "outputs": [],
   "source": [
    "import matplotlib.pyplot as plt\n",
    "accuracyScore.plot(kind='bar', figsize=(10, 5))\n",
    "plt.title('Accuracy score of all kernels')\n",
    "plt.xlabel('Kernels')\n",
    "plt.ylabel('Accuracy score')"
   ]
  },
  {
   "cell_type": "code",
   "execution_count": null,
   "id": "b9928d1a",
   "metadata": {},
   "outputs": [],
   "source": [
    "from sklearn.metrics import confusion_matrix\n",
    "matrix = confusion_matrix(yTest, yPred1)\n",
    "matrix"
   ]
  },
  {
   "cell_type": "code",
   "execution_count": null,
   "id": "7a6d09b7",
   "metadata": {},
   "outputs": [],
   "source": [
    "import seaborn as sb\n",
    "sb.heatmap(matrix, annot=True)"
   ]
  }
 ],
 "metadata": {
  "kernelspec": {
   "display_name": "Python 3 (ipykernel)",
   "language": "python",
   "name": "python3"
  },
  "language_info": {
   "codemirror_mode": {
    "name": "ipython",
    "version": 3
   },
   "file_extension": ".py",
   "mimetype": "text/x-python",
   "name": "python",
   "nbconvert_exporter": "python",
   "pygments_lexer": "ipython3",
   "version": "3.9.7"
  }
 },
 "nbformat": 4,
 "nbformat_minor": 5
}
