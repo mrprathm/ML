{
 "cells": [
  {
   "cell_type": "code",
   "execution_count": null,
   "id": "7a8b9944",
   "metadata": {},
   "outputs": [],
   "source": [
    "import pandas as pd\n",
    "A = pd.read_csv('C:\\\\Users\\\\pranv\\\\Downloads\\\\Market_Basket_Optimisation.csv')"
   ]
  },
  {
   "cell_type": "code",
   "execution_count": null,
   "id": "bc2cb702",
   "metadata": {},
   "outputs": [],
   "source": [
    "A.head()"
   ]
  },
  {
   "cell_type": "code",
   "execution_count": null,
   "id": "b5a8206b",
   "metadata": {},
   "outputs": [],
   "source": [
    "len(A)"
   ]
  },
  {
   "cell_type": "code",
   "execution_count": null,
   "id": "6549c7fe",
   "metadata": {},
   "outputs": [],
   "source": [
    "A.info()"
   ]
  },
  {
   "cell_type": "code",
   "execution_count": null,
   "id": "ae9b3c49",
   "metadata": {},
   "outputs": [],
   "source": [
    "A.describe()"
   ]
  },
  {
   "cell_type": "code",
   "execution_count": null,
   "id": "ef9360ba",
   "metadata": {},
   "outputs": [],
   "source": [
    "transactions = []\n",
    "for i in range(0, 7499):\n",
    "    transactions.append([str(A.values[i, j]) for j in range(0, 20)])"
   ]
  },
  {
   "cell_type": "code",
   "execution_count": null,
   "id": "06f4b75f",
   "metadata": {},
   "outputs": [],
   "source": [
    "from apyori import apriori\n",
    "tran_rules = apriori(transactions, min_support=0.003, min_confidence=0.2, min_lift=0.2, min_length=1)\n",
    "results = list(tran_rules)\n",
    "print(results[:10])"
   ]
  }
 ],
 "metadata": {
  "kernelspec": {
   "display_name": "Python 3 (ipykernel)",
   "language": "python",
   "name": "python3"
  },
  "language_info": {
   "codemirror_mode": {
    "name": "ipython",
    "version": 3
   },
   "file_extension": ".py",
   "mimetype": "text/x-python",
   "name": "python",
   "nbconvert_exporter": "python",
   "pygments_lexer": "ipython3",
   "version": "3.9.7"
  }
 },
 "nbformat": 4,
 "nbformat_minor": 5
}
