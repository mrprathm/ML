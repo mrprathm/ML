{
 "cells": [
  {
   "cell_type": "code",
   "execution_count": null,
   "id": "a09db003-e61e-452e-afdd-8a714710fe5c",
   "metadata": {},
   "outputs": [],
   "source": [
    "import numpy as np\n",
    "import pandas as pd\n",
    "from apyori import apriori\n",
    "import matplotlib.pyplot as plt\n",
    "import seaborn as sns"
   ]
  },
  {
   "cell_type": "code",
   "execution_count": null,
   "id": "338e96de-e07c-4154-884e-43cad1b074d5",
   "metadata": {},
   "outputs": [],
   "source": [
    "df = pd.read_csv(r\"Market_Basket_Optimisation.csv\",header=None)\n",
    "df"
   ]
  },
  {
   "cell_type": "code",
   "execution_count": null,
   "id": "9eb9a2a6-b709-4795-b6fc-53470e8bc23b",
   "metadata": {},
   "outputs": [],
   "source": [
    "df.info()"
   ]
  },
  {
   "cell_type": "code",
   "execution_count": null,
   "id": "ccebb687-ada2-4fc2-a8f3-a133579486d1",
   "metadata": {},
   "outputs": [],
   "source": [
    "df.describe()"
   ]
  },
  {
   "cell_type": "code",
   "execution_count": null,
   "id": "e2bdcd00-8fd9-4880-a1e4-09ecfa2ed1b9",
   "metadata": {},
   "outputs": [],
   "source": [
    "df.isnull().sum()"
   ]
  },
  {
   "cell_type": "code",
   "execution_count": null,
   "id": "8a03f2d5-4888-4979-ac9c-57578e25463e",
   "metadata": {},
   "outputs": [],
   "source": [
    "transactions = []\n",
    "for i in range(0, 7501):\n",
    "    transactions.append([str(df.values[i,j]) for j in range(0, 20)])"
   ]
  },
  {
   "cell_type": "code",
   "execution_count": null,
   "id": "22dd3d9a-6c17-4761-9479-99e29d4c7ed3",
   "metadata": {},
   "outputs": [],
   "source": [
    "tran_rules = apriori(transactions, min_support = 0.003, min_confidence = 0.2, min_lift = 3, min_length = 2)\n",
    "results = list(tran_rules)\n",
    "print(results[:50])"
   ]
  },
  {
   "cell_type": "code",
   "execution_count": null,
   "id": "66268983-dd29-4c4d-aaa6-6e9435ea6377",
   "metadata": {},
   "outputs": [],
   "source": [
    "def inspect(results):\n",
    "    prod_1 = [tuple(result[2][0][0])[0] for result in results]\n",
    "    prod_2 = [tuple(result[2][0][1])[0] for result in results]\n",
    "    conf = [result[2][0][2] for result in results]\n",
    "    lift = [result[2][0][3] for result in results]\n",
    "    support = [result[1] for result in results]\n",
    "    return list(zip(prod_1, prod_2, support,lift,conf))"
   ]
  },
  {
   "cell_type": "code",
   "execution_count": null,
   "id": "3c27600c-bd70-45de-ade5-e57ab7ecfaf4",
   "metadata": {},
   "outputs": [],
   "source": [
    "res_df = pd.DataFrame(inspect(results), columns = ['Prod_1', 'Prod_2', 'Support', 'Lift', 'Confidence'])\n",
    "res_df.nlargest(n = 10, columns = 'Support')"
   ]
  },
  {
   "cell_type": "code",
   "execution_count": null,
   "id": "2696afc5-ec61-4d16-9125-4dd1669a47f0",
   "metadata": {},
   "outputs": [],
   "source": [
    "sns.set_style('darkgrid')\n",
    "plt.figure(figsize=(35, 15))\n",
    "plt.title('Association Rules')\n",
    "plt.xlabel('PRODUCT')\n",
    "plt.ylabel('SUPPORT')\n",
    "plt.bar(res_df['Prod_1'], res_df['Support'], color='blue')\n",
    "plt.show()"
   ]
  }
 ],
 "metadata": {
  "kernelspec": {
   "display_name": "Python 3 (ipykernel)",
   "language": "python",
   "name": "python3"
  },
  "language_info": {
   "codemirror_mode": {
    "name": "ipython",
    "version": 3
   },
   "file_extension": ".py",
   "mimetype": "text/x-python",
   "name": "python",
   "nbconvert_exporter": "python",
   "pygments_lexer": "ipython3",
   "version": "3.9.5"
  }
 },
 "nbformat": 4,
 "nbformat_minor": 5
}
