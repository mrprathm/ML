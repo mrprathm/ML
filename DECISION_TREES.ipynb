{
 "cells": [
  {
   "cell_type": "code",
   "execution_count": null,
   "id": "02166ed3",
   "metadata": {},
   "outputs": [],
   "source": [
    "import pandas as pd\n",
    "data = pd.read_csv('C:\\\\Users\\\\pranv\\\\Downloads\\\\Admission_Predict.csv')\n",
    "data\n",
    "data.rename(columns={'Chance of Admit ': 'Chance of Admit', 'LOR ': 'LOR'},inplace=True )"
   ]
  },
  {
   "cell_type": "code",
   "execution_count": null,
   "id": "00d90e24",
   "metadata": {},
   "outputs": [],
   "source": [
    "data.loc[data[\"Chance of Admit\"] >= 0.5, \"Chance of Admit\"] = 1\n",
    "data.loc[data[\"Chance of Admit\"] < 0.5, \"Chance of Admit\"] = 0"
   ]
  },
  {
   "cell_type": "code",
   "execution_count": null,
   "id": "49cb985f",
   "metadata": {},
   "outputs": [],
   "source": [
    "data\n",
    "data.columns"
   ]
  },
  {
   "cell_type": "code",
   "execution_count": null,
   "id": "a1a6eee1",
   "metadata": {},
   "outputs": [],
   "source": [
    "data[\"Chance of Admit\"] = data[\"Chance of Admit\"].astype(int)"
   ]
  },
  {
   "cell_type": "code",
   "execution_count": null,
   "id": "36c5e163",
   "metadata": {},
   "outputs": [],
   "source": [
    "from sklearn.model_selection import train_test_split\n",
    "columns = ['GRE Score', 'TOEFL Score', 'University Rating', 'SOP', 'LOR', 'CGPA', 'Research']\n",
    "X = data[columns]\n",
    "Y = data['Chance of Admit']\n",
    "xTrain, xTest, yTrain, yTest = train_test_split(X, Y, test_size=0.3, random_state = 20)\n",
    "print(xTrain)\n",
    "print(xTest)\n",
    "print(yTrain)\n",
    "print(yTest)"
   ]
  },
  {
   "cell_type": "code",
   "execution_count": null,
   "id": "a8d1e701",
   "metadata": {},
   "outputs": [],
   "source": [
    "from sklearn.tree import DecisionTreeClassifier\n",
    "dTree = DecisionTreeClassifier()\n",
    "dTree.fit(xTrain, yTrain)"
   ]
  },
  {
   "cell_type": "code",
   "execution_count": null,
   "id": "9e28880e",
   "metadata": {},
   "outputs": [],
   "source": [
    "yPredict = dTree.predict(xTest)\n",
    "yPredict"
   ]
  },
  {
   "cell_type": "code",
   "execution_count": null,
   "id": "43177ebd",
   "metadata": {},
   "outputs": [],
   "source": [
    "from sklearn.metrics import accuracy_score\n",
    "print(\"Accuracy score of the model is: \", accuracy_score(yTest, yPredict))"
   ]
  },
  {
   "cell_type": "code",
   "execution_count": null,
   "id": "21d742eb",
   "metadata": {},
   "outputs": [],
   "source": [
    "from sklearn import tree\n",
    "import matplotlib.pyplot as plt\n",
    "plt.subplots(figsize=(18,10))\n",
    "tree.plot_tree(dTree, feature_names = columns, filled=False, max_depth =4, fontsize=10)"
   ]
  }
 ],
 "metadata": {
  "kernelspec": {
   "display_name": "Python 3 (ipykernel)",
   "language": "python",
   "name": "python3"
  },
  "language_info": {
   "codemirror_mode": {
    "name": "ipython",
    "version": 3
   },
   "file_extension": ".py",
   "mimetype": "text/x-python",
   "name": "python",
   "nbconvert_exporter": "python",
   "pygments_lexer": "ipython3",
   "version": "3.9.7"
  }
 },
 "nbformat": 4,
 "nbformat_minor": 5
}
